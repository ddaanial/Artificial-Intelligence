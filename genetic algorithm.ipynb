{
 "cells": [
  {
   "cell_type": "markdown",
   "metadata": {},
   "source": [
    "<div align=center>\n",
    "\t\t\n",
    "<p></p>\n",
    "<p></p>\n",
    "<font size=5>\n",
    "In the Name of God\n",
    "<font/>\n",
    " <p></p>\n",
    " <br/>\n",
    "\t\t<div align=center>\n",
    "\t\t    <size=6>\n",
    "\t\t\t    <br />\n",
    "Practical Assignment 2- part 2\n",
    "              <font color=blue size=6>\n",
    "            \t<br/>\n",
    "              Genetic Algorithm\n",
    "\t\t\t</font>\n",
    "    <br/>\n",
    "    <br/>\n",
    " </div>\n",
    "<hr/>\n",
    "Artifical Intelligence - Dr. GholamReza GhassemSani\n",
    "</font>\n",
    "  <p></p>\n",
    " <br/>\n",
    "Sharif University of Technology\n",
    "<p></p>\n",
    "Spring 2022\n",
    "\n",
    "\n",
    "<br/>\n",
    "<br/>\n",
    "<font size=4 color=red>\n",
    " </font>\n",
    "                <br/>\n",
    "    </div>"
   ]
  },
  {
   "cell_type": "markdown",
   "metadata": {},
   "source": [
    "# Personal Data"
   ]
  },
  {
   "cell_type": "code",
   "execution_count": 1,
   "metadata": {
    "collectable": true,
    "execution": {
     "iopub.execute_input": "2021-10-01T16:01:36.762477Z",
     "iopub.status.busy": "2021-10-01T16:01:36.762155Z",
     "iopub.status.idle": "2021-10-01T16:01:36.764025Z",
     "shell.execute_reply": "2021-10-01T16:01:36.763754Z"
    }
   },
   "outputs": [],
   "source": [
    "# Set your student number\n",
    "student_number = 400211546\n",
    "Name = Danial\n",
    "Last_Name = Ahangarani"
   ]
  },
  {
   "cell_type": "markdown",
   "metadata": {},
   "source": [
    "# Rules\n",
    "- Make sure that all of your cells are able to run perfectly. \n",
    "- You are not allowed to add or remove cells. You **must use the provided space to write your code**. If you don't follow this rule, **your Practical Assignment won't be graded**. \n",
    "- There is one cell for your custom functions (if you need any) at the beginning of each question. Please note that this jupyter file might be broken down into 3 or 4 jupyter notebooks for easier grading, so you **must write your custom functions in the correct cell**."
   ]
  },
  {
   "cell_type": "markdown",
   "metadata": {},
   "source": [
    "Due date: 15/2/1401 (at 11:59pm)<br>\n",
    "You are free to collaborate but solutions must be written up individually.\n",
    "Collaborators must be acknowledged.<br>\n",
    "Submissions with more than 100 hours delay will not be graded.<br>Submissions with less than\n",
    "50 hours delay will be penalized by the following rule:<br>\n",
    "Penalized mark = M * (100 – D) / 100 <br>\n",
    "Where M = the mark achieved from your solution and D is number of hours passed the\n",
    "deadline. Submissions with 50 < X ≤ 100 hours delay will be penalized by P.M. = M * 0.5.<br>\n",
    "Submit your answers on quera."
   ]
  },
  {
   "cell_type": "markdown",
   "metadata": {},
   "source": [
    "# Q1: GA"
   ]
  },
  {
   "cell_type": "markdown",
   "metadata": {},
   "source": [
    "<font size=4>\n",
    "Please run all the cells.\n",
    "     </font>\n",
    "</font>\n",
    "                <br/>\n",
    "    </div>"
   ]
  },
  {
   "cell_type": "markdown",
   "metadata": {},
   "source": [
    "## Libraries"
   ]
  },
  {
   "cell_type": "code",
   "execution_count": 150,
   "metadata": {},
   "outputs": [],
   "source": [
    "import numpy as np\n",
    "from math import exp\n",
    "import random\n",
    "import matplotlib.pyplot as plt\n",
    "import math"
   ]
  },
  {
   "cell_type": "markdown",
   "metadata": {},
   "source": [
    "## Knapspack Problem  ( 30 Points )"
   ]
  },
  {
   "cell_type": "code",
   "execution_count": 151,
   "metadata": {
    "collectable": true
   },
   "outputs": [],
   "source": [
    "# place for your custom functions here\n",
    "def population_second_half(population_first_half):\n",
    "    \"\"\"Complete poputation using crossover\"\"\"\n",
    "    pop_sec_half = []\n",
    "    t = int(len(population_first_half) / 2)\n",
    "    for i in range(t):\n",
    "        new_child = crossover(population_first_half[i], population_first_half[i + t])\n",
    "        pop_sec_half += new_child\n",
    "        \n",
    "    return pop_sec_half "
   ]
  },
  {
   "cell_type": "markdown",
   "metadata": {},
   "source": [
    "In this problem, we will tackle the knapspack problem with a genetic algorithm. You can find more detail about this problem [here](https://www.geeksforgeeks.org/0-1-knapsack-problem-dp-10/).\n"
   ]
  },
  {
   "cell_type": "markdown",
   "metadata": {},
   "source": [
    "To use local search algorithms, we must define our state-space. As the problem is about choosing a object or not, we define each state as a vector $S$ of size $n$ ( $n$ is total number of objects). \n",
    "\n",
    "$$\n",
    "S_i=   \\left\\{\n",
    "\\begin{array}{ll}\n",
    "      0 & \\text{object $i$ is selected} \\\\\n",
    "      1 & \\text{object $i$ is not selected}\n",
    "\\end{array} \n",
    "\\right.\n",
    "$$"
   ]
  },
  {
   "cell_type": "markdown",
   "metadata": {},
   "source": [
    "Write a function that generates a random state. i.e., it must return a boolean vector of size  𝑛\n",
    "n."
   ]
  },
  {
   "cell_type": "code",
   "execution_count": 152,
   "metadata": {},
   "outputs": [],
   "source": [
    "def random_state_generator(n):\n",
    "    ##################################################################\n",
    "    # (1 Points)                                                     #\n",
    "    # This function get input n (length)                             #\n",
    "    # and generates and returns a random boolean vector (list)       #\n",
    "    # as described above                                             #\n",
    "    ##################################################################\n",
    "    S = []\n",
    "    for i in range(n):\n",
    "        S.append(random.randint(0, 1))\n",
    "    return S"
   ]
  },
  {
   "cell_type": "markdown",
   "metadata": {},
   "source": [
    "## Population Generation\n",
    "\n",
    "The first step of the genetic algorithm is to generate an initial population of different states (chromosomes).\n",
    "\n",
    "Complete the following function. It must generate a population of size $k$ for a knapspack with $n$ objects."
   ]
  },
  {
   "cell_type": "code",
   "execution_count": 153,
   "metadata": {
    "collectable": true,
    "execution": {
     "iopub.execute_input": "2021-10-01T16:01:12.649651Z",
     "iopub.status.busy": "2021-10-01T16:01:12.649332Z",
     "iopub.status.idle": "2021-10-01T16:01:12.650895Z",
     "shell.execute_reply": "2021-10-01T16:01:12.651148Z"
    }
   },
   "outputs": [],
   "source": [
    "def population_generation(n, k): \n",
    "    ###################################################################\n",
    "    # (1 Points)                                                      #\n",
    "    # Returns a population of size k for a knapspack with n objects   #\n",
    "    ###################################################################\n",
    "    population = []\n",
    "    for i in range(k):\n",
    "        population.append(random_state_generator(n))\n",
    "    return population"
   ]
  },
  {
   "cell_type": "markdown",
   "metadata": {},
   "source": [
    "## Fitness Function\n",
    "\n",
    "Our Proposed fitness function is:\n",
    "\n",
    "$$\n",
    "f(S) =   \\left\\{\n",
    "\\begin{array}{ll}\n",
    "      \\sum_{i=1}^{n} s_{i} v_{i} & \\text{if  $\\sum_{i=1}^{n} s_{i} w_{i} \\leq W $ } \\\\\n",
    "      0 & \\text{Otherwise}\n",
    "\\end{array} \n",
    "\\right.\n",
    "$$\n",
    "\n",
    "Note that: \n",
    "\n",
    "n = chromosome length \n",
    "\n",
    "$s_i$ = ith gene of state S\n",
    "\n",
    "$v_i$ = ith value \n",
    "\n",
    "$w_i$ = ith weight \n",
    "\n",
    "$W$ = knapsack weight \n",
    "\n"
   ]
  },
  {
   "cell_type": "code",
   "execution_count": 154,
   "metadata": {
    "collectable": true
   },
   "outputs": [],
   "source": [
    "def fitness_function(W, weights, values, state):\n",
    "    ##################################################################\n",
    "    # (3 Points)                                                     #\n",
    "    # This function gets a state and values and weights and W,       #\n",
    "    # and calculates the fitness of this state                       #\n",
    "    ##################################################################\n",
    "    sum_weights = 0\n",
    "    fitness = 0\n",
    "    for i in range(len(state)):\n",
    "        if state[i] == 1:\n",
    "            sum_weights += weights[i]\n",
    "            fitness += values[i]\n",
    "    if sum_weights <= W:\n",
    "        return fitness\n",
    "    else:\n",
    "        return 0"
   ]
  },
  {
   "cell_type": "markdown",
   "metadata": {},
   "source": [
    "## Selection\n",
    "\n",
    "\n",
    "We select the best chromosomes (states) in the selection phase and allow them to pass to the next generation (iteration). Others will be discarded.\n",
    "\n",
    "For this part, we use a procedure named \"tournament selection\". In this procedure, we divide match each element in population with another one and compare their fitness. The winner is the one that has a higher fitness, and it gets selected for the next part, and the others are discarded."
   ]
  },
  {
   "cell_type": "code",
   "execution_count": 155,
   "metadata": {
    "collectable": true,
    "execution": {
     "iopub.execute_input": "2021-10-01T16:01:12.654554Z",
     "iopub.status.busy": "2021-10-01T16:01:12.654249Z",
     "iopub.status.idle": "2021-10-01T16:01:12.655998Z",
     "shell.execute_reply": "2021-10-01T16:01:12.655682Z"
    }
   },
   "outputs": [],
   "source": [
    "def tournament_selection(W, weights, values, population):\n",
    "    ######################################################################\n",
    "    # (5 Points)                                                         #\n",
    "    # This function gets the population and values and weights and W,    #\n",
    "    # and generates and returns a new population using                   #\n",
    "    # tournament selection                                               #\n",
    "    ######################################################################\n",
    "    new_population_v1 = []\n",
    "    length = int(len(population) / 2)\n",
    "    for i in range(length):\n",
    "        if fitness_function(W, weights, values, population[i]) > fitness_function(W, weights, values, population[i+length]):\n",
    "            new_population_v1.append(population[i])\n",
    "        else:\n",
    "            new_population_v1.append(population[i+length])      \n",
    "    return new_population_v1"
   ]
  },
  {
   "cell_type": "markdown",
   "metadata": {},
   "source": [
    "## Crossover"
   ]
  },
  {
   "cell_type": "markdown",
   "metadata": {},
   "source": [
    "In the crossover phase, we combine two chromosomes to get a better chromosome (solution). There are lots of ways to implement crossover. For this problem, we propose this method:\n",
    "\n",
    "Take two chromosomes as input. Generate a random 'index'. The resulting chromosome consists of genes from chromosome1 from 0 up until 'index' and genes from chromosome2 from 'index+1' until the end. Another chromosome is generated by swapping chromosome1 and chromosome2 and doing the same procedure.\n",
    "\n",
    "If you think another crossover method can result in better you can use it. Just explain your method too."
   ]
  },
  {
   "cell_type": "code",
   "execution_count": 156,
   "metadata": {
    "collectable": true
   },
   "outputs": [],
   "source": [
    "def crossover(parent1, parent2):\n",
    "    ##################################################################\n",
    "    # (5 Points)                                                     #\n",
    "    # This function gets the two parents                             #\n",
    "    # and generates and returns two new childs using crossover       #\n",
    "    ##################################################################\n",
    "    index = random.randint(0, len(parent1) - 1)\n",
    "    new_child1 = parent1[:index + 1] + parent2[index + 1:]\n",
    "    new_child2 = parent2[:index + 1] + parent1[index + 1:]\n",
    "    return new_child1, new_child2\n",
    "    "
   ]
  },
  {
   "cell_type": "markdown",
   "metadata": {},
   "source": [
    "## Mutation"
   ]
  },
  {
   "cell_type": "markdown",
   "metadata": {},
   "source": [
    "For this part, we generate a random number. If this number is greater than the mutation probability, we randomly select one index from genes that are selected and one from genes that are not selected and change these two from '0' to '1' or '1' to '0'.\n",
    "\n",
    "If you think another mutation method can result in better you can use it. Just explain your method too."
   ]
  },
  {
   "cell_type": "code",
   "execution_count": 157,
   "metadata": {
    "collectable": true
   },
   "outputs": [],
   "source": [
    "def mutation(chromosome, probability):\n",
    "    ##################################################################\n",
    "    # (3 Points)                                                     #\n",
    "    # This function gets the chromosome, and mutation probabiltiy    #\n",
    "    # and generate a new chromosome using mutation                   #\n",
    "    ##################################################################\n",
    "    one = []\n",
    "    zero = []\n",
    "    for i in range(len(chromosome)):\n",
    "        if chromosome[i] == 1:\n",
    "            zero.append(i)\n",
    "        else:\n",
    "            one.append(i)\n",
    "        \n",
    "    if random.random() < probability:\n",
    "        zero_selected = random.choice(zero)\n",
    "        one_selected = random.choice(one)\n",
    "        chromosome[zero_selected] = 1\n",
    "        chromosome[one_selected] = 0\n",
    "\n",
    "    return chromosome"
   ]
  },
  {
   "cell_type": "markdown",
   "metadata": {},
   "source": [
    "## Main Algorithm\n",
    "\n",
    "Now implement the main 'genetic_algorithm' function and plot the best fitness changes over generations."
   ]
  },
  {
   "cell_type": "code",
   "execution_count": 262,
   "metadata": {
    "collectable": true,
    "execution": {
     "iopub.execute_input": "2021-10-01T16:01:12.669076Z",
     "iopub.status.busy": "2021-10-01T16:01:12.668757Z",
     "iopub.status.idle": "2021-10-01T16:01:12.670566Z",
     "shell.execute_reply": "2021-10-01T16:01:12.670252Z"
    }
   },
   "outputs": [],
   "source": [
    "fitness_list = []\n",
    "def genetic_algorithm(W, weights, values, mutation_probability=0.1, pop_size=100, max_generation=100):\n",
    "    ###################################################################################\n",
    "    # (8 Points)                                                                      #\n",
    "    # The main genetic algorithm function                                             #\n",
    "    # it gets and values and weights and W, as mandatory input and                    #\n",
    "    # mutation probability, population size and maximum generation as optional input  #\n",
    "    # And runs the algorithm and returns the best solution and best fitness           #\n",
    "    ###################################################################################\n",
    "    best_fitness = float('-inf')\n",
    "    best_solution = None\n",
    "    n = len(weights)\n",
    "    ##################\n",
    "    population = population_generation(len(weights),pop_size)\n",
    "    while max_generation :\n",
    "        #finding best fitness\n",
    "        for chromosome in population:\n",
    "            candidate = fitness_function(W, weights, values, chromosome)\n",
    "            if candidate > best_fitness:\n",
    "                best_fitness = candidate\n",
    "                best_solution = chromosome\n",
    "                \n",
    "        #new population\n",
    "        half_population = tournament_selection(W, weights, values, population)\n",
    "        other_half_population = population_second_half(half_population)\n",
    "        population = half_population + other_half_population\n",
    "        for ch in range(len(population)):\n",
    "            population[ch] = mutation(population[ch], mutation_probability)\n",
    "        \n",
    "        fitness_list.append(best_fitness)\n",
    "        max_generation -= 1\n",
    "    ##################\n",
    "    return best_fitness, best_solution, fitness_list"
   ]
  },
  {
   "cell_type": "code",
   "execution_count": 263,
   "metadata": {},
   "outputs": [
    {
     "name": "stdout",
     "output_type": "stream",
     "text": [
      "best fitness: 2604\n",
      "weight used: 996\n"
     ]
    }
   ],
   "source": [
    "weights = [random.randint(0, 50) for _ in range(100)]\n",
    "values = [random.randint(0, 70) for _ in range(100)]\n",
    "W = 1000\n",
    "best_fitness , best_sol, fitness_list = genetic_algorithm(W, weights, values)\n",
    "print(f'best fitness: {best_fitness}')\n",
    "print(f'weight used: {np.dot(best_sol, weights)}')\n",
    "# Note that at least you must reach 2200 fitness in almost runs if your implemention is good enough."
   ]
  },
  {
   "cell_type": "code",
   "execution_count": 271,
   "metadata": {},
   "outputs": [
    {
     "data": {
      "image/png": "[encoded data removed]",
      "text/plain": [
       "<Figure size 432x288 with 1 Axes>"
      ]
     },
     "metadata": {
      "needs_background": "light"
     },
     "output_type": "display_data"
    }
   ],
   "source": [
    "###################################################\n",
    "# (4 Points)                                      #\n",
    "# Plot the best fitness changes over generations. #\n",
    "###################################################\n",
    "x = range(100)\n",
    "plt.plot(x, fitness_list)\n",
    "plt.xlabel('generation')\n",
    "plt.ylabel('best fitness')\n",
    "plt.title('Best fitness changes over generations')\n",
    "plt.show()"
   ]
  }
 ],
 "metadata": {
  "interpreter": {
   "hash": "f336af7d54ba0f0c1daaf2256eb85f31e983e88153daf7a27ef3ea6c724faba4"
  },
  "kernelspec": {
   "display_name": "Python 3 (ipykernel)",
   "language": "python",
   "name": "python3"
  },
  "language_info": {
   "codemirror_mode": {
    "name": "ipython",
    "version": 3
   },
   "file_extension": ".py",
   "mimetype": "text/x-python",
   "name": "python",
   "nbconvert_exporter": "python",
   "pygments_lexer": "ipython3",
   "version": "3.9.7"
  }
 },
 "nbformat": 4,
 "nbformat_minor": 4
}
